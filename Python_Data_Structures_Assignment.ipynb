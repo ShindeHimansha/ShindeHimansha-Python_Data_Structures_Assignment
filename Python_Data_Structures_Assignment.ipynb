{
  "nbformat": 4,
  "nbformat_minor": 0,
  "metadata": {
    "colab": {
      "provenance": []
    },
    "kernelspec": {
      "name": "python3",
      "display_name": "Python 3"
    },
    "language_info": {
      "name": "python"
    }
  },
  "cells": [
    {
      "cell_type": "markdown",
      "source": [
        "1. What are Data Structures and why are they important ?\n",
        "  - Data structures are specialized formats for organizing, storing, and accessing collections of data. They provide efficient ways to manage information based on its characteristics and intended use.\n",
        "  - Think of them as containers that hold your data and determine how you can interact with it. Different containers are better suited for different types of items.\n",
        "  - Why are they important?\n",
        "      - Choosing the right data structure significantly impacts the efficiency and performance of your program.\n",
        "      - Well-chosen data structures can:\n",
        "      - Simplify data manipulation (adding, removing, modifying elements)\n",
        "      - Optimize searching and sorting operations\n",
        "      - Conserve memory usage\n",
        "\n",
        "2. Explain the difference between mutable and immutable data types with example\n",
        "  - Mutable Data Types\n",
        "    - Definition: Objects that can be changed after creation.\n",
        "    - Examples: list, dict, set.\n",
        "\n",
        "    -\n",
        "     my_list = [1, 2, 3]\n",
        "     print(my_list)  \n",
        "     my_list.append(4)\n",
        "     print(my_list)  # will add 4 to list   \n",
        "  - Immutable Data Types\n",
        "    - Definition: Objects that cannot be changed after creation.\n",
        "    - Examples: str, tuple, int, float.\n",
        "    - my_string = \"Hello\"\n",
        "      new_string = my_string + \" World\"  \n",
        "      print(new_string)  # will add to string but a new variable is required\n",
        "\n",
        "3. What are the main differences between lists and tuples in python ?\n",
        "  - Mutability: Lists are mutable (can be modified), while tuples are immutable (cannot be modified).\n",
        "  - Syntax: Lists use square brackets [], whereas tuples use parentheses ().\n",
        "  - Performance: Tuples are faster and more memory-efficient than lists due to their immutability.\n",
        "  - Use Cases: Lists are ideal for dynamic data that changes frequently, while tuples are better for fixed, unchangeable data.\n",
        "\n",
        "4. Describe how dictionaries store data.\n",
        "  - Data is stored in dictionary in the following way\n",
        "    - Key-Value Pairs: Dictionaries store data as pairs, where each key maps to a specific value.\n",
        "    - Unique Keys: Each key must be unique within the dictionary.\n",
        "    - Hash Table: Internally, dictionaries use a hash table to store and access data, where keys are hashed to compute indices.\n",
        "    - Efficient Access: This structure allows for fast lookups, insertions, and deletions of key-value pairs\n",
        "\n",
        "5. Why might you use a set instead of a list in python ?\n",
        "  -  Unique Elements: A set automatically ensures that all its elements are unique, making it ideal for scenarios where duplicates are not allowed.\n",
        "  - Fast Membership Testing: Checking if an element exists in a set is faster than that of tuple.\n",
        "  - Mathematical Operations: Sets support operations like union, intersection, and difference, which are useful for tasks involving comparisons between collections.\n",
        "  - Performance: Sets are generally faster for operations like adding or removing elements compared to lists, especially for large datasets.\n",
        "\n",
        "6. What is a string in python and how is it different from a list ?\n",
        "  - String in Python: A string is a sequence of characters enclosed in either single quotes (') or double quotes (\"). It is used to represent text data, such as names, sentences, or any other textual content.\n",
        "\n",
        "  - Difference from List:\n",
        "    - Mutability: Strings are immutable, meaning once created, their content cannot be changed. In contrast, lists are mutable, allowing modification (e.g., adding, removing, or changing elements).\n",
        "    - Element Types: A string consists only of characters, while a list can hold a collection of any data types (integers, strings, objects, etc.).\n",
        "    - Operations: Strings support operations like slicing and concatenation, but they don’t allow item assignment or deletion. Lists support item assignment, deletion, and various other operations such as append() or remove().\n",
        "    - Use Cases: Strings are specifically for representing text, while lists are more general-purpose, used for storing collections of items that can change.\n",
        "\n",
        "7. How do tuples ensure data integrity in Python ?\n",
        "  - Tuples ensure data integrity in Python through their immutability. Once a tuple is created, its content cannot be altered—no elements can be added, removed, or changed. This characteristic provides several benefits for data integrity:\n",
        "    - Preventing Accidental Modifications: Since tuples cannot be modified, it reduces the risk of accidental changes to data during the program's execution.\n",
        "    - Safe for Use as Dictionary Keys: Due to their immutability, tuples can be used as keys in dictionaries, whereas mutable data types like lists cannot.\n",
        "    - Ensuring Consistency: Tuples are ideal for representing fixed collections of data (e.g., coordinates, configuration settings), where consistency and reliability are important.\n",
        "\n",
        "8. What is a hash table and how does it relate to dictonaries in Python ?\n",
        "  - A hash table is a data structure that stores data in an associative manner, using a hash function to compute an index (or \"hash value\") into an array of buckets or slots. This index determines where the corresponding value is stored. The primary advantage of hash tables is that they allow for fast data retrieval, typically in constant time  O(1), by directly mapping keys to values.\n",
        "  - In Python, dictionaries are implemented using hash tables. Here's how they relate:\n",
        "    - Hashing Keys: When a key is added to a dictionary, Python applies a hash function to the key to compute its hash value. This hash value determines where the key-value pair is stored in memory.\n",
        "    - Efficient Lookup: When you access a value by key, Python uses the hash value to quickly locate the corresponding data, making dictionary lookups very fast.\n",
        "\n",
        "9. Can list contain different data types in python ?\n",
        "  - Yes, a list in Python can contain different data types. Lists are heterogeneous, meaning they can hold a mix of various data types such as integers, strings, floats, booleans, and even other lists or objects.\n",
        "\n",
        "  - For example, a single list can store:\n",
        "    - Numbers (e.g., integers and floats)\n",
        "    - Strings\n",
        "    - Boolean values\n",
        "    - Other lists or tuples\n",
        "    - Custom objects\n",
        "    - This flexibility makes lists versatile and suitable for a wide range of use cases.\n",
        "    - Here's an example: list1 = [42, \"Hello\", 3.14, True,]\n",
        "\n",
        "10. Explain why strings are immutable in python ?\n",
        "  - Strings are immutable in Python to provide several benefits:\n",
        "      - Efficiency: Since strings are immutable, Python can optimize memory usage. Once a string is created, its memory location doesn't change, which makes operations like string comparisons faster, as the data is not modified in place.\n",
        "      - Security: Immutable strings help prevent accidental or intentional changes to data, ensuring data integrity. This is especially important when strings are used in key-value mappings (e.g., in dictionaries or sets), where their hash values need to remain constant.\n",
        "\n",
        "11. What advantages do dictionaries offer over lists for certain tasks ?\n",
        "  - Dictionaries offer several advantages over lists for certain tasks, particularly when you need to work with key-value pairs or perform fast lookups:\n",
        "\n",
        "      - Faster Lookups: In dictionaries, values are accessed by their keys, making lookups faster compared to lists, where you would have to search through each element. This is especially true for large datasets.\n",
        "\n",
        "      - Efficient Key-Value Mapping: Dictionaries are designed for scenarios where you need to associate a unique key with a specific value. This makes them ideal for tasks like storing configurations, mappings, or any kind of associative data.\n",
        "\n",
        "      - Uniqueness of Keys: In a dictionary, each key is unique, so there is no need to worry about duplicates. Lists, on the other hand, can have multiple occurrences of the same item.\n",
        "\n",
        "12. Describe a scenario where using  a tuple would be preferable over a list ?\n",
        "  - Scenario:\n",
        "    - You have a specific birthdate that should not change, such as \"January 1st.\"\n",
        "      - A tuple is ideal here because:\n",
        "      - The date (month and day) is a fixed pair of values.\n",
        "      - You don’t need to modify it during the program’s execution, ensuring its integrity.\n",
        "      - Example: birthdate = (\"January\", 1)  # Tuple representing the month and day\n",
        "      - Using a tuple here makes it clear that the combination is fixed, while using a list would allow modification of the values, which is unnecessary and could lead to mistakes.\n",
        "\n",
        "13. How do sets handle duplicate values in python ?\n",
        "  - Sets in Python automatically remove duplicate values. When you try to add an element to a set that already exists, the set will ignore the new element, ensuring that only unique values are stored.\n",
        "  - This property makes sets an efficient choice when you need to store distinct items and don't want to manually check for duplicates.\n",
        "  - example code:\n",
        "  set1 = {1,2,3}\n",
        "  set1.add(2)\n",
        "  print(set1)\n",
        "  -  In the above example even though 2 is added again python will only take the first instance of 2 in account that is existing so that no duplicate values is present.\n",
        "\n",
        "14. How does the 'in' keyword works differently for lists and dictionaries ?\n",
        "  - 'in' keyword works slight different in lists and dictonaries\n",
        "      - for lists  it will search for value in the complete list .\n",
        "      - while for dictonary it will look for the key that you want to search in the existing dictonary.\n",
        "\n",
        "15. Can you modify the elements of a tuple ? Explain why and why not ?\n",
        "  - No, you cannot modify the elements of a tuple in Python because tuples are immutable. This means that once a tuple is created, its content (the elements it holds) cannot be changed.\n",
        "  - The primary reason is Immutability The primary characteristic of tuples is that they are immutable, meaning their data cannot be modified. This makes them fixed collections.\n",
        "  - Other reason is also somewhat related to immutability that it ensures integrity of data as data cant be modified.\n",
        "\n",
        "16. What is a nested dictonary , and give an example of its use case ?\n",
        "  - A nested dictionary in Python is a dictionary where one or more values themselves are dictionaries. This allows for the representation of complex, hierarchical data structures by nesting dictionaries within other dictionaries, enabling you to model relationships between key-value pairs.\n",
        "  - students = {\n",
        "    \"Alice\": {\"age\": 21, \"major\": \"Computer Science\", \"grades\": {\"Math\": \"A\", \"Physics\": \"B\"}},\n",
        "    \"Bob\": {\"age\": 22, \"major\": \"Mathematics\", \"grades\": {\"Math\": \"A+\", \"Physics\": \"A\"}}\n",
        "}\n",
        "  - Use Case: A nested dictionary is useful for representing complex data structures where an entity has multiple attributes, and some attributes themselves have more detailed information. For example, in a student management system, you could use a nested dictionary to store student information, including personal details and subject grades.\n",
        "\n",
        "17. Describe the time complexity of accessing elements in a dictionary ?\n",
        "  - The time complexity of accessing an element in a dictionary in Python is O(1), on average. This is because dictionaries in Python are implemented using hash tables, where a hash function is used to directly map a key to its corresponding value, allowing for constant time retrieval.\n",
        "\n",
        "  - Best-case Scenario: In the best case, the dictionary has no hash collisions, and the key you're looking for directly maps to the correct memory location. In this case, the time complexity is O(1).\n",
        "\n",
        "  - Worst-case Scenario: In the worst case, there may be many hash collisions, where multiple keys hash to the same location. This can lead to slower lookups, and in the case of severe collisions, the time complexity could degrade to O(n), where n is the number of elements in the dictionary.\n",
        "\n",
        "18. In what situations are list preferred over dictonaries ?\n",
        "  - Lists are preferred over dictionaries in the following situations:\n",
        "\n",
        "    1. When Order Matters: Lists maintain the order of elements, whereas dictionaries (before Python 3.7) did not guarantee order (though they do now). If you need to preserve the order of insertion or require elements to be accessed sequentially, a list is a better choice.\n",
        "\n",
        "    2. When You Need Indexed Access: Lists allow access via indexes (e.g., my_list[0]), which is useful when you need to work with ordered elements or require efficient sequential access by position. Dictionaries, on the other hand, are based on keys, not positions.\n",
        "\n",
        "19. Why are dictonaries considered unordered , and how does it affect data retrieval?\n",
        "  - Dictionaries in Python are implemented using hash tables, where each key is hashed to a specific index in memory. The position of key-value pairs in the dictionary is determined by their hash values, not the order in which they were added. As a result, dictionaries don't maintain the order of insertion by default.\n",
        "  - Data Retrieval by Key: The order of insertion doesn't affect the ability to retrieve data by key. The dictionary still allows O(1) time complexity for lookups because it uses a hash function to quickly locate the value associated with a key, independent of the order in which the items were added.\n",
        "\n",
        "20. Explain the difference between a list and a dictionary in terms of data retrieval ?\n",
        "  -  Difference Between a List and a Dictionary in Terms of Data Retrieval:\n",
        "  \n",
        "      - Access Mechanism: Lists use indexing to retrieve data by position. Dictionaries use keys to retrieve data associated with specific values.\n",
        "      \n",
        "      - Order:Lists maintain a specific order of elements based on their indices. Dictionaries maintain order of insertion (Python 3.7+), but access is based on keys, not order.\n",
        "\n",
        "      - Efficiency: Lists offer O(1) time for index-based access, but O(n) for searching by   value. Dictionaries offer O(1) time for key-based lookups, making retrieval  more efficient.\n",
        "      \n",
        "      - Use Case for Retrieval: Lists are suited for position-based access or when order is important. Dictionaries are suited for key-based access when efficient lookups by  key are    - required."
      ],
      "metadata": {
        "id": "yyuRuI-qEK8u"
      }
    },
    {
      "cell_type": "code",
      "source": [
        "# 1. Write a code to create a string with your name and print it\n",
        "\n",
        "string1 = \"Onkar Gaurkar\"\n",
        "print(string1)"
      ],
      "metadata": {
        "colab": {
          "base_uri": "https://localhost:8080/"
        },
        "id": "lwd85Pu57CxO",
        "outputId": "4c2e7d83-899d-4bb2-b5f4-9e2cff4facfa"
      },
      "execution_count": null,
      "outputs": [
        {
          "output_type": "stream",
          "name": "stdout",
          "text": [
            "Onkar Gaurkar\n"
          ]
        }
      ]
    },
    {
      "cell_type": "code",
      "source": [
        "# 2. Write a code to find length of string \"Hello World\"\n",
        "\n",
        "str2=\"Hello World\"\n",
        "print(len(str2))"
      ],
      "metadata": {
        "colab": {
          "base_uri": "https://localhost:8080/"
        },
        "id": "de0r8kgzbb15",
        "outputId": "366c5651-e34f-464f-a0bf-344ac9caa98f"
      },
      "execution_count": null,
      "outputs": [
        {
          "output_type": "stream",
          "name": "stdout",
          "text": [
            "11\n"
          ]
        }
      ]
    },
    {
      "cell_type": "code",
      "source": [
        "# 3. Write a code to slice the first three characters from the string \"Python Programming\"\n",
        "text = \"Python Programming\"\n",
        "sliced_text=text[:3]\n",
        "print(sliced_text)"
      ],
      "metadata": {
        "colab": {
          "base_uri": "https://localhost:8080/"
        },
        "id": "BHIrBSQhcfRF",
        "outputId": "e3567aef-efaa-4922-e630-2635fde7486b"
      },
      "execution_count": null,
      "outputs": [
        {
          "output_type": "stream",
          "name": "stdout",
          "text": [
            "Pyt\n"
          ]
        }
      ]
    },
    {
      "cell_type": "code",
      "source": [
        "# 4. Write a code to convert string \"hello\" to uppercase\n",
        "\n",
        "str3=\"hello\"\n",
        "str4=str3.upper()\n",
        "print(str4)"
      ],
      "metadata": {
        "id": "_gulAZihl3ST",
        "colab": {
          "base_uri": "https://localhost:8080/"
        },
        "outputId": "47b80ac0-28aa-431a-d0c0-46921fcb5e83"
      },
      "execution_count": 1,
      "outputs": [
        {
          "output_type": "stream",
          "name": "stdout",
          "text": [
            "HELLO\n"
          ]
        }
      ]
    },
    {
      "cell_type": "code",
      "source": [
        "# 5. Write a code to replace the word apple to orange in string \"i like apple\"\n",
        "\n",
        "str5=\"i like apple\"\n",
        "str6=str5.replace(\"apple\",\"orange\")\n",
        "print(str6)"
      ],
      "metadata": {
        "colab": {
          "base_uri": "https://localhost:8080/"
        },
        "id": "P41PlDlx4Mtj",
        "outputId": "e032e0f3-62a2-4267-a073-2fabc8850f9c"
      },
      "execution_count": 2,
      "outputs": [
        {
          "output_type": "stream",
          "name": "stdout",
          "text": [
            "i like orange\n"
          ]
        }
      ]
    },
    {
      "cell_type": "code",
      "source": [
        "# 6. Write a code to create a list with numbers 1 to 5 and print it\n",
        "num = [1,2,3,4,5]\n",
        "print(num)"
      ],
      "metadata": {
        "colab": {
          "base_uri": "https://localhost:8080/"
        },
        "id": "s2g_nK3r4idQ",
        "outputId": "8833fe16-6f55-4e0e-e1c1-95815316953a"
      },
      "execution_count": 3,
      "outputs": [
        {
          "output_type": "stream",
          "name": "stdout",
          "text": [
            "[1, 2, 3, 4, 5]\n"
          ]
        }
      ]
    },
    {
      "cell_type": "code",
      "source": [
        "# 7. Write a code to append number 10 to list [1,2,3,4]\n",
        "\n",
        "a = [1,2,3,4]\n",
        "a.append(10)\n",
        "print(a)"
      ],
      "metadata": {
        "colab": {
          "base_uri": "https://localhost:8080/"
        },
        "id": "I5pxzSK25Fhq",
        "outputId": "f06e91ca-8203-4327-8e59-c46a55c7b7bc"
      },
      "execution_count": 4,
      "outputs": [
        {
          "output_type": "stream",
          "name": "stdout",
          "text": [
            "[1, 2, 3, 4, 10]\n"
          ]
        }
      ]
    },
    {
      "cell_type": "code",
      "source": [
        "# 8. write a code to remove number 3 from the list [1,2,3,4,5]\n",
        "\n",
        "b=[1,2,3,4,5]\n",
        "b.remove(3)\n",
        "print(b)"
      ],
      "metadata": {
        "colab": {
          "base_uri": "https://localhost:8080/"
        },
        "id": "slJO9sLw5SkY",
        "outputId": "a1fbbd8f-79cd-4f3a-8bce-f2942fb74ff2"
      },
      "execution_count": 5,
      "outputs": [
        {
          "output_type": "stream",
          "name": "stdout",
          "text": [
            "[1, 2, 4, 5]\n"
          ]
        }
      ]
    },
    {
      "cell_type": "code",
      "source": [
        "# 9. Write a code to access the second element  in the list ['a','b','c','d']\n",
        "\n",
        "e=['a','b','c','d']\n",
        "print(e[1])"
      ],
      "metadata": {
        "colab": {
          "base_uri": "https://localhost:8080/"
        },
        "id": "2zB9cLl95e9W",
        "outputId": "d961b90f-cbff-4a34-9b84-135974d97a36"
      },
      "execution_count": 7,
      "outputs": [
        {
          "output_type": "stream",
          "name": "stdout",
          "text": [
            "b\n"
          ]
        }
      ]
    },
    {
      "cell_type": "code",
      "source": [
        "# 10. Write a code to reverse the list [10,20,30,40,50]\n",
        "\n",
        "f=[10,20,30,40,50]\n",
        "f.reverse()\n",
        "print(f)"
      ],
      "metadata": {
        "colab": {
          "base_uri": "https://localhost:8080/"
        },
        "id": "GlqVliR_56la",
        "outputId": "1a0da0ee-29bb-475d-82fb-6423141a03b8"
      },
      "execution_count": 8,
      "outputs": [
        {
          "output_type": "stream",
          "name": "stdout",
          "text": [
            "[50, 40, 30, 20, 10]\n"
          ]
        }
      ]
    },
    {
      "cell_type": "code",
      "source": [
        "# 11,18. Write a code to create a tuple with elements 10,20,30 and print it\n",
        "\n",
        "g = (10,20,30)\n",
        "print(g)"
      ],
      "metadata": {
        "colab": {
          "base_uri": "https://localhost:8080/"
        },
        "id": "6h-oGmJ_6Jpx",
        "outputId": "0f798a71-aa4d-4c03-e2f7-265c3f943c4f"
      },
      "execution_count": 10,
      "outputs": [
        {
          "output_type": "stream",
          "name": "stdout",
          "text": [
            "(10, 20, 30)\n"
          ]
        }
      ]
    },
    {
      "cell_type": "code",
      "source": [
        "# 12,19. Write a code to access the first element of the tuple (\"apple\",\"banana\",\"cherry\")\n",
        "\n",
        "h=(\"apple\",\"banana\",\"cherry\")\n",
        "print(h[0])"
      ],
      "metadata": {
        "colab": {
          "base_uri": "https://localhost:8080/"
        },
        "id": "P-ZK8ED46h5S",
        "outputId": "04eddb0e-4cc7-4924-d79b-1af5505e8505"
      },
      "execution_count": 11,
      "outputs": [
        {
          "output_type": "stream",
          "name": "stdout",
          "text": [
            "apple\n"
          ]
        }
      ]
    },
    {
      "cell_type": "code",
      "source": [
        "# 13,20. Write a code to count how many times the number 2 appears in the tuple (1,2,3,2,4,2)\n",
        "\n",
        "i=(1,2,3,2,4,2)\n",
        "print(i.count(2))"
      ],
      "metadata": {
        "colab": {
          "base_uri": "https://localhost:8080/"
        },
        "id": "sfR8MAyw60ZV",
        "outputId": "bd04f566-e91c-4193-a405-6cf9e92f33d5"
      },
      "execution_count": 13,
      "outputs": [
        {
          "output_type": "stream",
          "name": "stdout",
          "text": [
            "3\n"
          ]
        }
      ]
    },
    {
      "cell_type": "code",
      "source": [
        "# 14,21. Write a code to find index of element  \"cat\" in the tuple (\"dog\",\"cat\",\"rabbit\")\n",
        "\n",
        "j=(\"dog\",\"cat\",\"rabbit\")\n",
        "print(j.index(\"cat\"))"
      ],
      "metadata": {
        "colab": {
          "base_uri": "https://localhost:8080/"
        },
        "id": "dxiy-ZqC9QSe",
        "outputId": "7b9143c4-5e50-4645-8174-698c72a012db"
      },
      "execution_count": 14,
      "outputs": [
        {
          "output_type": "stream",
          "name": "stdout",
          "text": [
            "1\n"
          ]
        }
      ]
    },
    {
      "cell_type": "code",
      "source": [
        "# 15,22. Write a code to check if the element \"banana\" is in the tuple (\"apple\",\"orange\",\"banana\")\n",
        "\n",
        "k=(\"apple\",\"orange\",\"banana\")\n",
        "print(\"banana\" in k)"
      ],
      "metadata": {
        "colab": {
          "base_uri": "https://localhost:8080/"
        },
        "id": "gQ5ebkn9MwQ0",
        "outputId": "59cece9c-59ee-40a1-abd2-2ff0407f4094"
      },
      "execution_count": 16,
      "outputs": [
        {
          "output_type": "stream",
          "name": "stdout",
          "text": [
            "True\n"
          ]
        }
      ]
    },
    {
      "cell_type": "code",
      "source": [
        "# 16,23. Write a code to create a set with the elements  1,2,3,4,5 and print it\n",
        "\n",
        "l={1,2,3,4,5}\n",
        "print(l)"
      ],
      "metadata": {
        "colab": {
          "base_uri": "https://localhost:8080/"
        },
        "id": "GDS1kv8gNQ8V",
        "outputId": "71f320b2-a1b7-47ae-e049-9239f074bece"
      },
      "execution_count": 17,
      "outputs": [
        {
          "output_type": "stream",
          "name": "stdout",
          "text": [
            "{1, 2, 3, 4, 5}\n"
          ]
        }
      ]
    },
    {
      "cell_type": "code",
      "source": [
        "# 17,24. Write a code to add the element 6  to the set {1,2,3,4}\n",
        "m={1,2,3,4}\n",
        "m.add(6)\n",
        "print(m)"
      ],
      "metadata": {
        "colab": {
          "base_uri": "https://localhost:8080/"
        },
        "id": "-lyYdMrfODYS",
        "outputId": "7fe07b1b-66fc-4883-8a05-1a581008db49"
      },
      "execution_count": 20,
      "outputs": [
        {
          "output_type": "stream",
          "name": "stdout",
          "text": [
            "{1, 2, 3, 4, 6}\n"
          ]
        }
      ]
    }
  ]
}